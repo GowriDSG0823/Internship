{
 "cells": [
  {
   "cell_type": "markdown",
   "id": "ad5725c3",
   "metadata": {},
   "source": [
    "# Assignment_Regular Expressions"
   ]
  },
  {
   "cell_type": "code",
   "execution_count": 6,
   "id": "26c6d6bd",
   "metadata": {},
   "outputs": [],
   "source": [
    "import re"
   ]
  },
  {
   "cell_type": "markdown",
   "id": "b643d3ba",
   "metadata": {},
   "source": [
    "Question 1- Write a Python program to replace all occurrences of a space, comma, or dot with a colon."
   ]
  },
  {
   "cell_type": "code",
   "execution_count": 7,
   "id": "f3990739",
   "metadata": {},
   "outputs": [
    {
     "data": {
      "text/plain": [
       "'Python:Exercises::PHP:exercises:'"
      ]
     },
     "execution_count": 7,
     "metadata": {},
     "output_type": "execute_result"
    }
   ],
   "source": [
    "text = 'Python Exercises, PHP exercises.'\n",
    "pattern = r'\\s|\\,|\\.'\n",
    "repl= ':'\n",
    "re.sub(pattern,repl,text)"
   ]
  },
  {
   "cell_type": "markdown",
   "id": "40cfb23e",
   "metadata": {},
   "source": [
    "Question 2-  Create a dataframe using the dictionary below and remove everything (commas (,), !, XXXX, ;, etc.) from the columns except words."
   ]
  },
  {
   "cell_type": "code",
   "execution_count": 8,
   "id": "efa0f435",
   "metadata": {},
   "outputs": [
    {
     "data": {
      "text/html": [
       "<div>\n",
       "<style scoped>\n",
       "    .dataframe tbody tr th:only-of-type {\n",
       "        vertical-align: middle;\n",
       "    }\n",
       "\n",
       "    .dataframe tbody tr th {\n",
       "        vertical-align: top;\n",
       "    }\n",
       "\n",
       "    .dataframe thead th {\n",
       "        text-align: right;\n",
       "    }\n",
       "</style>\n",
       "<table border=\"1\" class=\"dataframe\">\n",
       "  <thead>\n",
       "    <tr style=\"text-align: right;\">\n",
       "      <th></th>\n",
       "      <th>SUMMARY</th>\n",
       "    </tr>\n",
       "  </thead>\n",
       "  <tbody>\n",
       "    <tr>\n",
       "      <th>0</th>\n",
       "      <td>hello, world!</td>\n",
       "    </tr>\n",
       "    <tr>\n",
       "      <th>1</th>\n",
       "      <td>XXXXX test</td>\n",
       "    </tr>\n",
       "    <tr>\n",
       "      <th>2</th>\n",
       "      <td>123four, five:; six...</td>\n",
       "    </tr>\n",
       "  </tbody>\n",
       "</table>\n",
       "</div>"
      ],
      "text/plain": [
       "                  SUMMARY\n",
       "0           hello, world!\n",
       "1              XXXXX test\n",
       "2  123four, five:; six..."
      ]
     },
     "execution_count": 8,
     "metadata": {},
     "output_type": "execute_result"
    }
   ],
   "source": [
    "import pandas as pd\n",
    "dict={'SUMMARY' : ['hello, world!', 'XXXXX test', '123four, five:; six...']}\n",
    "df=pd.DataFrame(dict)\n",
    "df"
   ]
  },
  {
   "cell_type": "code",
   "execution_count": 9,
   "id": "17fd878b",
   "metadata": {},
   "outputs": [
    {
     "data": {
      "text/html": [
       "<div>\n",
       "<style scoped>\n",
       "    .dataframe tbody tr th:only-of-type {\n",
       "        vertical-align: middle;\n",
       "    }\n",
       "\n",
       "    .dataframe tbody tr th {\n",
       "        vertical-align: top;\n",
       "    }\n",
       "\n",
       "    .dataframe thead th {\n",
       "        text-align: right;\n",
       "    }\n",
       "</style>\n",
       "<table border=\"1\" class=\"dataframe\">\n",
       "  <thead>\n",
       "    <tr style=\"text-align: right;\">\n",
       "      <th></th>\n",
       "      <th>SUMMARY</th>\n",
       "    </tr>\n",
       "  </thead>\n",
       "  <tbody>\n",
       "    <tr>\n",
       "      <th>0</th>\n",
       "      <td>hello world</td>\n",
       "    </tr>\n",
       "    <tr>\n",
       "      <th>1</th>\n",
       "      <td>test</td>\n",
       "    </tr>\n",
       "    <tr>\n",
       "      <th>2</th>\n",
       "      <td>four five six</td>\n",
       "    </tr>\n",
       "  </tbody>\n",
       "</table>\n",
       "</div>"
      ],
      "text/plain": [
       "           SUMMARY\n",
       "0     hello world \n",
       "1             test\n",
       "2   four five six "
      ]
     },
     "execution_count": 9,
     "metadata": {},
     "output_type": "execute_result"
    }
   ],
   "source": [
    "pattern = r'[^(a-z)]+'\n",
    "repl= ' '\n",
    "df['SUMMARY']=df['SUMMARY'].apply(lambda y: re.sub(pattern,repl,y))\n",
    "df"
   ]
  },
  {
   "cell_type": "markdown",
   "id": "0029d56e",
   "metadata": {},
   "source": [
    "Question 3- Create a function in python to find all words that are at least 4 characters long in a string. The use of the re.compile() method is mandatory."
   ]
  },
  {
   "cell_type": "code",
   "execution_count": 10,
   "id": "afd8068f",
   "metadata": {},
   "outputs": [],
   "source": [
    "def check (text):\n",
    "    pat=re.compile(r'\\b\\w{4,}\\b')\n",
    "    if pat.findall(text):\n",
    "        print('Match found : ',pat.findall(text))\n",
    "    else:\n",
    "        print('No match found')"
   ]
  },
  {
   "cell_type": "code",
   "execution_count": 11,
   "id": "894baf7c",
   "metadata": {},
   "outputs": [
    {
     "name": "stdout",
     "output_type": "stream",
     "text": [
      "Match found :  ['There', 'four', 'pens', 'three', 'boxes', 'cupboard']\n"
     ]
    }
   ],
   "source": [
    "check('There are four pens and three boxes in the cupboard')"
   ]
  },
  {
   "cell_type": "code",
   "execution_count": 12,
   "id": "20f4ad3f",
   "metadata": {},
   "outputs": [
    {
     "name": "stdout",
     "output_type": "stream",
     "text": [
      "No match found\n"
     ]
    }
   ],
   "source": [
    "check('It is a pen in a box')"
   ]
  },
  {
   "cell_type": "markdown",
   "id": "5e486375",
   "metadata": {},
   "source": [
    "Question 4- Create a function in python to find all three, four, and five character words in a string. The use of the re.compile() method is mandatory."
   ]
  },
  {
   "cell_type": "code",
   "execution_count": 13,
   "id": "d8eb3810",
   "metadata": {},
   "outputs": [],
   "source": [
    "def check1 (text):\n",
    "    pat=re.compile(r'\\b\\w{3}\\b|\\b\\w{4}\\b|\\b\\w{5}\\b')\n",
    "    if pat.findall(text):\n",
    "        print('Match found : ',pat.findall(text))\n",
    "    else:\n",
    "        print('No match found')"
   ]
  },
  {
   "cell_type": "code",
   "execution_count": 14,
   "id": "5cb3892e",
   "metadata": {},
   "outputs": [
    {
     "name": "stdout",
     "output_type": "stream",
     "text": [
      "Match found :  ['This', 'that', 'the', 'data', 'words']\n"
     ]
    }
   ],
   "source": [
    "check1('This is to notify that the data is in complex words')"
   ]
  },
  {
   "cell_type": "code",
   "execution_count": 15,
   "id": "ffa2df8c",
   "metadata": {},
   "outputs": [
    {
     "name": "stdout",
     "output_type": "stream",
     "text": [
      "No match found\n"
     ]
    }
   ],
   "source": [
    "check1('It is a')"
   ]
  },
  {
   "cell_type": "markdown",
   "id": "0d87856c",
   "metadata": {},
   "source": [
    "Question 5- Create a function in Python to remove the parenthesis in a list of strings. The use of the re.compile() method is mandatory."
   ]
  },
  {
   "cell_type": "code",
   "execution_count": 16,
   "id": "076dc25c",
   "metadata": {},
   "outputs": [],
   "source": [
    "def remove (text):\n",
    "    rem=re.compile('\\(|\\)')\n",
    "    rem.sub('',text)\n",
    "    if rem.sub('',text):\n",
    "        print('Pattern removed : ',rem.sub('',text))\n",
    "    else:\n",
    "        print('No pattern detected')"
   ]
  },
  {
   "cell_type": "code",
   "execution_count": 17,
   "id": "f5c9310b",
   "metadata": {},
   "outputs": [
    {
     "name": "stdout",
     "output_type": "stream",
     "text": [
      "Pattern removed :  example.com\n"
     ]
    }
   ],
   "source": [
    "remove('example.(com)')"
   ]
  },
  {
   "cell_type": "code",
   "execution_count": 18,
   "id": "f3c45a83",
   "metadata": {},
   "outputs": [
    {
     "name": "stdout",
     "output_type": "stream",
     "text": [
      "Pattern removed :  example .com, hr@fliprobo .com, github .com, Hello Data Science World, Data Scientist\n"
     ]
    }
   ],
   "source": [
    "remove(\"example (.com), hr@fliprobo (.com), github (.com), Hello (Data Science World), Data (Scientist)\")"
   ]
  },
  {
   "cell_type": "markdown",
   "id": "2a1bc0b7",
   "metadata": {},
   "source": [
    "Question 6- Write a python program to remove the parenthesis area from the text stored in the text file using Regular Expression."
   ]
  },
  {
   "cell_type": "code",
   "execution_count": 19,
   "id": "f83c5772",
   "metadata": {},
   "outputs": [
    {
     "data": {
      "text/plain": [
       "'example (.com),hr@fliprobo (.com),github (.com),Hello (Data Science World),Data (Scientist)'"
      ]
     },
     "execution_count": 19,
     "metadata": {},
     "output_type": "execute_result"
    }
   ],
   "source": [
    "# converting the list to single text \n",
    "sample_list=[\"example (.com)\", \"hr@fliprobo (.com)\", \"github (.com)\", \"Hello (Data Science World)\", \"Data (Scientist)\"]\n",
    "sample_text=','.join(sample_list)\n",
    "sample_text"
   ]
  },
  {
   "cell_type": "code",
   "execution_count": 20,
   "id": "88444bf4",
   "metadata": {},
   "outputs": [
    {
     "data": {
      "text/plain": [
       "'example  ,hr@fliprobo  ,github  ,Hello  ,Data  '"
      ]
     },
     "execution_count": 20,
     "metadata": {},
     "output_type": "execute_result"
    }
   ],
   "source": [
    "re.sub('\\(.*?\\)',' ',sample_text)"
   ]
  },
  {
   "cell_type": "markdown",
   "id": "bf66a5ef",
   "metadata": {},
   "source": [
    "Question 7- Write a regular expression in Python to split a string into uppercase letters."
   ]
  },
  {
   "cell_type": "code",
   "execution_count": 21,
   "id": "218c70ca",
   "metadata": {},
   "outputs": [
    {
     "data": {
      "text/plain": [
       "'ImportanceOfRegularExpressionsInPython'"
      ]
     },
     "execution_count": 21,
     "metadata": {},
     "output_type": "execute_result"
    }
   ],
   "source": [
    "text= 'ImportanceOfRegularExpressionsInPython'\n",
    "text"
   ]
  },
  {
   "cell_type": "code",
   "execution_count": 22,
   "id": "b76aab7c",
   "metadata": {},
   "outputs": [
    {
     "data": {
      "text/plain": [
       "['', 'Importance', 'Of', 'Regular', 'Expressions', 'In', 'Python']"
      ]
     },
     "execution_count": 22,
     "metadata": {},
     "output_type": "execute_result"
    }
   ],
   "source": [
    "re.split('(?=[A-Z])',text)"
   ]
  },
  {
   "cell_type": "markdown",
   "id": "50a9a63c",
   "metadata": {},
   "source": [
    "Question 8- Create a function in python to insert spaces between words starting with numbers."
   ]
  },
  {
   "cell_type": "code",
   "execution_count": 23,
   "id": "92e64b47",
   "metadata": {},
   "outputs": [],
   "source": [
    "def space (text):\n",
    "    patt=re.compile('(?=[\\d])')\n",
    "    if patt.split(text):\n",
    "        print('String is split to : ',patt.split(text))\n",
    "    else:\n",
    "        print('No split occured')"
   ]
  },
  {
   "cell_type": "code",
   "execution_count": 24,
   "id": "6887a044",
   "metadata": {},
   "outputs": [
    {
     "name": "stdout",
     "output_type": "stream",
     "text": [
      "String is split to :  ['RegularExpression', '1IsAn', '2ImportantTopic', '3InPython']\n"
     ]
    }
   ],
   "source": [
    "space (\"RegularExpression1IsAn2ImportantTopic3InPython\")"
   ]
  },
  {
   "cell_type": "markdown",
   "id": "c4908c33",
   "metadata": {},
   "source": [
    "Question 9- Create a function in python to insert spaces between words starting with capital letters or with numbers."
   ]
  },
  {
   "cell_type": "code",
   "execution_count": 25,
   "id": "66e628a3",
   "metadata": {},
   "outputs": [],
   "source": [
    "def space1(text):\n",
    "    pat=re.compile(r'(?=[A-Z]|\\d)')\n",
    "    if pat.sub(' ',text):\n",
    "        print('String is split to : ',pat.sub(' ',text))\n",
    "    else:\n",
    "        print('No split occured')"
   ]
  },
  {
   "cell_type": "code",
   "execution_count": 26,
   "id": "fae2d656",
   "metadata": {},
   "outputs": [
    {
     "name": "stdout",
     "output_type": "stream",
     "text": [
      "String is split to :   Regular Expression 1 Is An 2 Important Topic 3 In Python\n"
     ]
    }
   ],
   "source": [
    "space1('RegularExpression1IsAn2ImportantTopic3InPython')"
   ]
  },
  {
   "cell_type": "markdown",
   "id": "7e985269",
   "metadata": {},
   "source": [
    "Question 10- Use the github link below to read the data and create a dataframe. After creating the dataframe extract the first 6 letters of each country and store in the dataframe under a new column called first_five_letters.\n",
    "\n",
    "Github Link-  https://raw.githubusercontent.com/dsrscientist/DSData/master/happiness_score_dataset.csv\n"
   ]
  },
  {
   "cell_type": "code",
   "execution_count": 27,
   "id": "fcf1ce69",
   "metadata": {},
   "outputs": [
    {
     "data": {
      "text/html": [
       "<div>\n",
       "<style scoped>\n",
       "    .dataframe tbody tr th:only-of-type {\n",
       "        vertical-align: middle;\n",
       "    }\n",
       "\n",
       "    .dataframe tbody tr th {\n",
       "        vertical-align: top;\n",
       "    }\n",
       "\n",
       "    .dataframe thead th {\n",
       "        text-align: right;\n",
       "    }\n",
       "</style>\n",
       "<table border=\"1\" class=\"dataframe\">\n",
       "  <thead>\n",
       "    <tr style=\"text-align: right;\">\n",
       "      <th></th>\n",
       "      <th>Country</th>\n",
       "      <th>Region</th>\n",
       "      <th>Happiness Rank</th>\n",
       "      <th>Happiness Score</th>\n",
       "      <th>Standard Error</th>\n",
       "      <th>Economy (GDP per Capita)</th>\n",
       "      <th>Family</th>\n",
       "      <th>Health (Life Expectancy)</th>\n",
       "      <th>Freedom</th>\n",
       "      <th>Trust (Government Corruption)</th>\n",
       "      <th>Generosity</th>\n",
       "      <th>Dystopia Residual</th>\n",
       "    </tr>\n",
       "  </thead>\n",
       "  <tbody>\n",
       "    <tr>\n",
       "      <th>0</th>\n",
       "      <td>Switzerland</td>\n",
       "      <td>Western Europe</td>\n",
       "      <td>1</td>\n",
       "      <td>7.587</td>\n",
       "      <td>0.03411</td>\n",
       "      <td>1.39651</td>\n",
       "      <td>1.34951</td>\n",
       "      <td>0.94143</td>\n",
       "      <td>0.66557</td>\n",
       "      <td>0.41978</td>\n",
       "      <td>0.29678</td>\n",
       "      <td>2.51738</td>\n",
       "    </tr>\n",
       "    <tr>\n",
       "      <th>1</th>\n",
       "      <td>Iceland</td>\n",
       "      <td>Western Europe</td>\n",
       "      <td>2</td>\n",
       "      <td>7.561</td>\n",
       "      <td>0.04884</td>\n",
       "      <td>1.30232</td>\n",
       "      <td>1.40223</td>\n",
       "      <td>0.94784</td>\n",
       "      <td>0.62877</td>\n",
       "      <td>0.14145</td>\n",
       "      <td>0.43630</td>\n",
       "      <td>2.70201</td>\n",
       "    </tr>\n",
       "    <tr>\n",
       "      <th>2</th>\n",
       "      <td>Denmark</td>\n",
       "      <td>Western Europe</td>\n",
       "      <td>3</td>\n",
       "      <td>7.527</td>\n",
       "      <td>0.03328</td>\n",
       "      <td>1.32548</td>\n",
       "      <td>1.36058</td>\n",
       "      <td>0.87464</td>\n",
       "      <td>0.64938</td>\n",
       "      <td>0.48357</td>\n",
       "      <td>0.34139</td>\n",
       "      <td>2.49204</td>\n",
       "    </tr>\n",
       "    <tr>\n",
       "      <th>3</th>\n",
       "      <td>Norway</td>\n",
       "      <td>Western Europe</td>\n",
       "      <td>4</td>\n",
       "      <td>7.522</td>\n",
       "      <td>0.03880</td>\n",
       "      <td>1.45900</td>\n",
       "      <td>1.33095</td>\n",
       "      <td>0.88521</td>\n",
       "      <td>0.66973</td>\n",
       "      <td>0.36503</td>\n",
       "      <td>0.34699</td>\n",
       "      <td>2.46531</td>\n",
       "    </tr>\n",
       "    <tr>\n",
       "      <th>4</th>\n",
       "      <td>Canada</td>\n",
       "      <td>North America</td>\n",
       "      <td>5</td>\n",
       "      <td>7.427</td>\n",
       "      <td>0.03553</td>\n",
       "      <td>1.32629</td>\n",
       "      <td>1.32261</td>\n",
       "      <td>0.90563</td>\n",
       "      <td>0.63297</td>\n",
       "      <td>0.32957</td>\n",
       "      <td>0.45811</td>\n",
       "      <td>2.45176</td>\n",
       "    </tr>\n",
       "  </tbody>\n",
       "</table>\n",
       "</div>"
      ],
      "text/plain": [
       "       Country          Region  Happiness Rank  Happiness Score  \\\n",
       "0  Switzerland  Western Europe               1            7.587   \n",
       "1      Iceland  Western Europe               2            7.561   \n",
       "2      Denmark  Western Europe               3            7.527   \n",
       "3       Norway  Western Europe               4            7.522   \n",
       "4       Canada   North America               5            7.427   \n",
       "\n",
       "   Standard Error  Economy (GDP per Capita)   Family  \\\n",
       "0         0.03411                   1.39651  1.34951   \n",
       "1         0.04884                   1.30232  1.40223   \n",
       "2         0.03328                   1.32548  1.36058   \n",
       "3         0.03880                   1.45900  1.33095   \n",
       "4         0.03553                   1.32629  1.32261   \n",
       "\n",
       "   Health (Life Expectancy)  Freedom  Trust (Government Corruption)  \\\n",
       "0                   0.94143  0.66557                        0.41978   \n",
       "1                   0.94784  0.62877                        0.14145   \n",
       "2                   0.87464  0.64938                        0.48357   \n",
       "3                   0.88521  0.66973                        0.36503   \n",
       "4                   0.90563  0.63297                        0.32957   \n",
       "\n",
       "   Generosity  Dystopia Residual  \n",
       "0     0.29678            2.51738  \n",
       "1     0.43630            2.70201  \n",
       "2     0.34139            2.49204  \n",
       "3     0.34699            2.46531  \n",
       "4     0.45811            2.45176  "
      ]
     },
     "execution_count": 27,
     "metadata": {},
     "output_type": "execute_result"
    }
   ],
   "source": [
    "import pandas as pd\n",
    "df=pd.read_csv('https://raw.githubusercontent.com/dsrscientist/DSData/master/happiness_score_dataset.csv')\n",
    "df.head()"
   ]
  },
  {
   "cell_type": "code",
   "execution_count": 28,
   "id": "e18f6fdd",
   "metadata": {},
   "outputs": [
    {
     "data": {
      "text/html": [
       "<div>\n",
       "<style scoped>\n",
       "    .dataframe tbody tr th:only-of-type {\n",
       "        vertical-align: middle;\n",
       "    }\n",
       "\n",
       "    .dataframe tbody tr th {\n",
       "        vertical-align: top;\n",
       "    }\n",
       "\n",
       "    .dataframe thead th {\n",
       "        text-align: right;\n",
       "    }\n",
       "</style>\n",
       "<table border=\"1\" class=\"dataframe\">\n",
       "  <thead>\n",
       "    <tr style=\"text-align: right;\">\n",
       "      <th></th>\n",
       "      <th>Country</th>\n",
       "      <th>Region</th>\n",
       "      <th>Happiness Rank</th>\n",
       "      <th>Happiness Score</th>\n",
       "      <th>Standard Error</th>\n",
       "      <th>Economy (GDP per Capita)</th>\n",
       "      <th>Family</th>\n",
       "      <th>Health (Life Expectancy)</th>\n",
       "      <th>Freedom</th>\n",
       "      <th>Trust (Government Corruption)</th>\n",
       "      <th>Generosity</th>\n",
       "      <th>Dystopia Residual</th>\n",
       "      <th>first_five_letters</th>\n",
       "    </tr>\n",
       "  </thead>\n",
       "  <tbody>\n",
       "    <tr>\n",
       "      <th>0</th>\n",
       "      <td>Switzerland</td>\n",
       "      <td>Western Europe</td>\n",
       "      <td>1</td>\n",
       "      <td>7.587</td>\n",
       "      <td>0.03411</td>\n",
       "      <td>1.39651</td>\n",
       "      <td>1.34951</td>\n",
       "      <td>0.94143</td>\n",
       "      <td>0.66557</td>\n",
       "      <td>0.41978</td>\n",
       "      <td>0.29678</td>\n",
       "      <td>2.51738</td>\n",
       "      <td>Switze</td>\n",
       "    </tr>\n",
       "    <tr>\n",
       "      <th>1</th>\n",
       "      <td>Iceland</td>\n",
       "      <td>Western Europe</td>\n",
       "      <td>2</td>\n",
       "      <td>7.561</td>\n",
       "      <td>0.04884</td>\n",
       "      <td>1.30232</td>\n",
       "      <td>1.40223</td>\n",
       "      <td>0.94784</td>\n",
       "      <td>0.62877</td>\n",
       "      <td>0.14145</td>\n",
       "      <td>0.43630</td>\n",
       "      <td>2.70201</td>\n",
       "      <td>Icelan</td>\n",
       "    </tr>\n",
       "    <tr>\n",
       "      <th>2</th>\n",
       "      <td>Denmark</td>\n",
       "      <td>Western Europe</td>\n",
       "      <td>3</td>\n",
       "      <td>7.527</td>\n",
       "      <td>0.03328</td>\n",
       "      <td>1.32548</td>\n",
       "      <td>1.36058</td>\n",
       "      <td>0.87464</td>\n",
       "      <td>0.64938</td>\n",
       "      <td>0.48357</td>\n",
       "      <td>0.34139</td>\n",
       "      <td>2.49204</td>\n",
       "      <td>Denmar</td>\n",
       "    </tr>\n",
       "    <tr>\n",
       "      <th>3</th>\n",
       "      <td>Norway</td>\n",
       "      <td>Western Europe</td>\n",
       "      <td>4</td>\n",
       "      <td>7.522</td>\n",
       "      <td>0.03880</td>\n",
       "      <td>1.45900</td>\n",
       "      <td>1.33095</td>\n",
       "      <td>0.88521</td>\n",
       "      <td>0.66973</td>\n",
       "      <td>0.36503</td>\n",
       "      <td>0.34699</td>\n",
       "      <td>2.46531</td>\n",
       "      <td>Norway</td>\n",
       "    </tr>\n",
       "    <tr>\n",
       "      <th>4</th>\n",
       "      <td>Canada</td>\n",
       "      <td>North America</td>\n",
       "      <td>5</td>\n",
       "      <td>7.427</td>\n",
       "      <td>0.03553</td>\n",
       "      <td>1.32629</td>\n",
       "      <td>1.32261</td>\n",
       "      <td>0.90563</td>\n",
       "      <td>0.63297</td>\n",
       "      <td>0.32957</td>\n",
       "      <td>0.45811</td>\n",
       "      <td>2.45176</td>\n",
       "      <td>Canada</td>\n",
       "    </tr>\n",
       "  </tbody>\n",
       "</table>\n",
       "</div>"
      ],
      "text/plain": [
       "       Country          Region  Happiness Rank  Happiness Score  \\\n",
       "0  Switzerland  Western Europe               1            7.587   \n",
       "1      Iceland  Western Europe               2            7.561   \n",
       "2      Denmark  Western Europe               3            7.527   \n",
       "3       Norway  Western Europe               4            7.522   \n",
       "4       Canada   North America               5            7.427   \n",
       "\n",
       "   Standard Error  Economy (GDP per Capita)   Family  \\\n",
       "0         0.03411                   1.39651  1.34951   \n",
       "1         0.04884                   1.30232  1.40223   \n",
       "2         0.03328                   1.32548  1.36058   \n",
       "3         0.03880                   1.45900  1.33095   \n",
       "4         0.03553                   1.32629  1.32261   \n",
       "\n",
       "   Health (Life Expectancy)  Freedom  Trust (Government Corruption)  \\\n",
       "0                   0.94143  0.66557                        0.41978   \n",
       "1                   0.94784  0.62877                        0.14145   \n",
       "2                   0.87464  0.64938                        0.48357   \n",
       "3                   0.88521  0.66973                        0.36503   \n",
       "4                   0.90563  0.63297                        0.32957   \n",
       "\n",
       "   Generosity  Dystopia Residual first_five_letters  \n",
       "0     0.29678            2.51738             Switze  \n",
       "1     0.43630            2.70201             Icelan  \n",
       "2     0.34139            2.49204             Denmar  \n",
       "3     0.34699            2.46531             Norway  \n",
       "4     0.45811            2.45176             Canada  "
      ]
     },
     "execution_count": 28,
     "metadata": {},
     "output_type": "execute_result"
    }
   ],
   "source": [
    "pattern='^(\\w{6})'\n",
    "df['first_five_letters']=df['Country'].str.extract(pattern)\n",
    "df.head()"
   ]
  },
  {
   "cell_type": "markdown",
   "id": "48bb2fa3",
   "metadata": {},
   "source": [
    "Question 11- Write a Python program to match a string that contains only upper and lowercase letters, numbers, and underscores"
   ]
  },
  {
   "cell_type": "code",
   "execution_count": 29,
   "id": "ff6b7129",
   "metadata": {},
   "outputs": [],
   "source": [
    "def find (text):\n",
    "    res = re.findall(r'(^[a-zA-Z0-9_]+?)',text)\n",
    "    if res:\n",
    "        print('Match found: ', res)\n",
    "    else:\n",
    "        print('Match not found')"
   ]
  },
  {
   "cell_type": "code",
   "execution_count": 30,
   "id": "12445e43",
   "metadata": {},
   "outputs": [
    {
     "name": "stdout",
     "output_type": "stream",
     "text": [
      "Match found:  ['T']\n"
     ]
    }
   ],
   "source": [
    "find('Today\"s code is March987_65 and not March@987_65 or March98765')"
   ]
  },
  {
   "cell_type": "markdown",
   "id": "1747e983",
   "metadata": {},
   "source": [
    "Question 12- Write a Python program where a string will start with a specific number. "
   ]
  },
  {
   "cell_type": "code",
   "execution_count": 31,
   "id": "58f7404e",
   "metadata": {},
   "outputs": [],
   "source": [
    "def start (text):\n",
    "    res = re.findall(r'(^5)',text)\n",
    "    if res:\n",
    "        print('Match found: ', res)\n",
    "    else:\n",
    "        print('Match not found')"
   ]
  },
  {
   "cell_type": "code",
   "execution_count": 32,
   "id": "a32d64f8",
   "metadata": {},
   "outputs": [
    {
     "name": "stdout",
     "output_type": "stream",
     "text": [
      "Match found:  ['5']\n"
     ]
    }
   ],
   "source": [
    "start('5 oranges are in the basket')"
   ]
  },
  {
   "cell_type": "code",
   "execution_count": 33,
   "id": "2bc878a4",
   "metadata": {},
   "outputs": [
    {
     "name": "stdout",
     "output_type": "stream",
     "text": [
      "Match not found\n"
     ]
    }
   ],
   "source": [
    "start('basket has 5 oranges')"
   ]
  },
  {
   "cell_type": "markdown",
   "id": "8db3ebd7",
   "metadata": {},
   "source": [
    "Question 13- Write a Python program to remove leading zeros from an IP address"
   ]
  },
  {
   "cell_type": "code",
   "execution_count": 34,
   "id": "034a0b27",
   "metadata": {},
   "outputs": [],
   "source": [
    "def clean(text):\n",
    "    res =re.sub(r'(?:(0+))','',text)\n",
    "    if res:\n",
    "        print('Leading zeros removed. Valid IP address : ', res)\n",
    "    else:\n",
    "        print('Not removed')"
   ]
  },
  {
   "cell_type": "code",
   "execution_count": 35,
   "id": "0f13e9a2",
   "metadata": {},
   "outputs": [
    {
     "name": "stdout",
     "output_type": "stream",
     "text": [
      "Leading zeros removed. Valid IP address :  192.168.1.1\n"
     ]
    }
   ],
   "source": [
    "clean('192.168.001.001')"
   ]
  },
  {
   "cell_type": "code",
   "execution_count": 36,
   "id": "bbb7432c",
   "metadata": {},
   "outputs": [
    {
     "name": "stdout",
     "output_type": "stream",
     "text": [
      "Leading zeros removed. Valid IP address :  1.2.3.4\n"
     ]
    }
   ],
   "source": [
    "clean('001.002.003.004')"
   ]
  },
  {
   "cell_type": "markdown",
   "id": "875edbc3",
   "metadata": {},
   "source": [
    "Question 14- Write a regular expression in python to match a date string in the form of Month name followed by day number and year stored in a text file."
   ]
  },
  {
   "cell_type": "code",
   "execution_count": 37,
   "id": "a5c2b063",
   "metadata": {},
   "outputs": [],
   "source": [
    "text='On August 15th 1947 that India was declared independent from British colonialism, and the reins of control were handed over to the leaders of the Country'"
   ]
  },
  {
   "cell_type": "code",
   "execution_count": 38,
   "id": "9b620def",
   "metadata": {},
   "outputs": [
    {
     "data": {
      "text/plain": [
       "['August 15th 1947']"
      ]
     },
     "execution_count": 38,
     "metadata": {},
     "output_type": "execute_result"
    }
   ],
   "source": [
    "re.findall(r'August \\d+[a-z]+? \\d{4}',text)"
   ]
  },
  {
   "cell_type": "markdown",
   "id": "746a11e0",
   "metadata": {},
   "source": [
    "Question 15- Write a Python program to search some literals strings in a string. \n",
    "\n",
    "Searched words : 'fox', 'dog', 'horse'"
   ]
  },
  {
   "cell_type": "code",
   "execution_count": 39,
   "id": "0740dc0f",
   "metadata": {},
   "outputs": [
    {
     "data": {
      "text/plain": [
       "['fox', 'dog']"
      ]
     },
     "execution_count": 39,
     "metadata": {},
     "output_type": "execute_result"
    }
   ],
   "source": [
    "text='The quick brown fox jumps over the lazy dog.'\n",
    "pattern='fox|dog|horse'\n",
    "re.findall(pattern,text)"
   ]
  },
  {
   "cell_type": "markdown",
   "id": "b6f30212",
   "metadata": {},
   "source": [
    "Question 16- Write a Python program to search a literals string in a string and also find the location within the original string where the pattern occurs.\n",
    "\n",
    "Searched words : 'fox'"
   ]
  },
  {
   "cell_type": "code",
   "execution_count": 40,
   "id": "e336f967",
   "metadata": {},
   "outputs": [
    {
     "data": {
      "text/plain": [
       "<re.Match object; span=(16, 19), match='fox'>"
      ]
     },
     "execution_count": 40,
     "metadata": {},
     "output_type": "execute_result"
    }
   ],
   "source": [
    "text='The quick brown fox jumps over the lazy dog.'\n",
    "pattern='fox'\n",
    "res =re.search(pattern,text)\n",
    "res"
   ]
  },
  {
   "cell_type": "code",
   "execution_count": 41,
   "id": "fe8335a8",
   "metadata": {},
   "outputs": [
    {
     "data": {
      "text/plain": [
       "(16, 19)"
      ]
     },
     "execution_count": 41,
     "metadata": {},
     "output_type": "execute_result"
    }
   ],
   "source": [
    "res.span()"
   ]
  },
  {
   "cell_type": "markdown",
   "id": "532f9d4b",
   "metadata": {},
   "source": [
    "The matched word starts at position 16 and ends at 19 within the given string."
   ]
  },
  {
   "cell_type": "markdown",
   "id": "d45d3120",
   "metadata": {},
   "source": [
    "Question 17- Write a Python program to find the substrings within a string.\n",
    "\n",
    "Sample text : 'Python exercises, PHP exercises, C# exercises'\n",
    "\n",
    "Pattern : 'exercises'."
   ]
  },
  {
   "cell_type": "code",
   "execution_count": 42,
   "id": "2c09107f",
   "metadata": {},
   "outputs": [
    {
     "data": {
      "text/plain": [
       "['exercises', 'exercises', 'exercises']"
      ]
     },
     "execution_count": 42,
     "metadata": {},
     "output_type": "execute_result"
    }
   ],
   "source": [
    "text='Python exercises, PHP exercises, C# exercises'\n",
    "pattern = 'exercises'\n",
    "re.findall(pattern,text)"
   ]
  },
  {
   "cell_type": "code",
   "execution_count": 43,
   "id": "1c30bde5",
   "metadata": {},
   "outputs": [
    {
     "name": "stdout",
     "output_type": "stream",
     "text": [
      "Match found:  <re.Match object; span=(7, 16), match='exercises'>\n",
      "Match found:  <re.Match object; span=(22, 31), match='exercises'>\n",
      "Match found:  <re.Match object; span=(36, 45), match='exercises'>\n"
     ]
    }
   ],
   "source": [
    "text='Python exercises, PHP exercises, C# exercises'\n",
    "pattern = 'exercises'\n",
    "res=re.finditer(pattern,text)\n",
    "for match in res:\n",
    "    print('Match found: ',match)"
   ]
  },
  {
   "cell_type": "markdown",
   "id": "06a32ef5",
   "metadata": {},
   "source": [
    "Question 18- Write a Python program to find the occurrence and position of the substrings within a string."
   ]
  },
  {
   "cell_type": "code",
   "execution_count": 44,
   "id": "6edf4d55",
   "metadata": {},
   "outputs": [
    {
     "name": "stdout",
     "output_type": "stream",
     "text": [
      "Match :  <re.Match object; span=(16, 23), match='stories'> \n",
      " Position of the match:  16\n",
      "Match :  <re.Match object; span=(74, 81), match='stories'> \n",
      " Position of the match:  74\n"
     ]
    }
   ],
   "source": [
    "text='I like to write stories. I like to write essays as well. Do you write any stories?'\n",
    "res=re.finditer('stories',text)\n",
    "for match in res:\n",
    "    if res:\n",
    "        print('Match : ', match, '\\n Position of the match: ' ,match.start())\n",
    "    else:\n",
    "        print('No match')"
   ]
  },
  {
   "cell_type": "markdown",
   "id": "2deaa4a8",
   "metadata": {},
   "source": [
    "Question 19- Write a Python program to convert a date of yyyy-mm-dd format to dd-mm-yyyy format."
   ]
  },
  {
   "cell_type": "code",
   "execution_count": 45,
   "id": "8ceb3c28",
   "metadata": {},
   "outputs": [
    {
     "data": {
      "text/plain": [
       "'You have to attend exams on 29-2-2024 and 5-11-2024'"
      ]
     },
     "execution_count": 45,
     "metadata": {},
     "output_type": "execute_result"
    }
   ],
   "source": [
    "text='You have to attend exams on 2024-2-29 and 2024-11-5'\n",
    "pattern=r'(\\d{4})-(\\d{1,2})-(\\d{1,2})'\n",
    "repl=r'\\3-\\2-\\1'\n",
    "re.sub(pattern,repl,text)\n",
    "#re.findall(pattern,text)"
   ]
  },
  {
   "cell_type": "markdown",
   "id": "bad0186f",
   "metadata": {},
   "source": [
    "Question 20- Create a function in python to find all decimal numbers with a precision of 1 or 2 in a string. The use of the re.compile() method is mandatory.\n",
    "\n",
    "Sample Text: \"01.12 0132.123 2.31875 145.8 3.01 27.25 0.25\"  \n",
    "Expected Output: ['01.12', '145.8', '3.01', '27.25', '0.25']"
   ]
  },
  {
   "cell_type": "code",
   "execution_count": 46,
   "id": "dafaeead",
   "metadata": {},
   "outputs": [],
   "source": [
    "text= \"01.12 0132.123 2.31875 145.8 3.01 27.25 0.25\"\n",
    "def decimal(text):\n",
    "    res=re.compile('(\\d+\\.\\d{1,2})(?= |$)')\n",
    "    if res.findall(text):\n",
    "        print('Decimal numbers matched: ', res.findall(text))\n",
    "    else:\n",
    "        print('Decimals not matched')"
   ]
  },
  {
   "cell_type": "code",
   "execution_count": 47,
   "id": "e06c633a",
   "metadata": {},
   "outputs": [
    {
     "name": "stdout",
     "output_type": "stream",
     "text": [
      "Decimal numbers matched:  ['01.12', '145.8', '3.01', '27.25', '0.25']\n"
     ]
    }
   ],
   "source": [
    "decimal(\"01.12 0132.123 2.31875 145.8 3.01 27.25 0.25\")"
   ]
  },
  {
   "cell_type": "markdown",
   "id": "c720e4c9",
   "metadata": {},
   "source": [
    "Question 21- Write a Python program to separate and print the numbers and their position of a given string."
   ]
  },
  {
   "cell_type": "code",
   "execution_count": 48,
   "id": "24ce7d4c",
   "metadata": {},
   "outputs": [
    {
     "name": "stdout",
     "output_type": "stream",
     "text": [
      "Match found:  <re.Match object; span=(10, 11), match='5'>\n",
      "Location of match:  10\n",
      "Match found:  <re.Match object; span=(21, 23), match='13'>\n",
      "Location of match:  21\n",
      "Match found:  <re.Match object; span=(36, 39), match='129'>\n",
      "Location of match:  36\n"
     ]
    }
   ],
   "source": [
    "text='There are 5 mangoes, 13 oranges and 129 cherries in the box'\n",
    "result=re.finditer('\\d+',text)\n",
    "for res in result:\n",
    "    print('Match found: ', res)\n",
    "    print('Location of match: ', res.start())"
   ]
  },
  {
   "cell_type": "markdown",
   "id": "6b1b7f12",
   "metadata": {},
   "source": [
    "Question 22- Write a regular expression in python program to extract maximum/largest numeric value from a string.\n",
    "\n",
    "Sample Text:  'My marks in each semester are: 947, 896, 926, 524, 734, 950, 642'  \n",
    "Expected Output: 950"
   ]
  },
  {
   "cell_type": "code",
   "execution_count": 49,
   "id": "1daae0be",
   "metadata": {},
   "outputs": [
    {
     "data": {
      "text/plain": [
       "['947', '896', '926', '524', '734', '950', '642']"
      ]
     },
     "execution_count": 49,
     "metadata": {},
     "output_type": "execute_result"
    }
   ],
   "source": [
    "text= 'My marks in each semester are: 947, 896, 926, 524, 734, 950, 642'\n",
    "result = re.findall('\\d{3}',text)\n",
    "result"
   ]
  },
  {
   "cell_type": "code",
   "execution_count": 50,
   "id": "969b616a",
   "metadata": {},
   "outputs": [
    {
     "data": {
      "text/plain": [
       "list"
      ]
     },
     "execution_count": 50,
     "metadata": {},
     "output_type": "execute_result"
    }
   ],
   "source": [
    "result=list(result)\n",
    "type(result)"
   ]
  },
  {
   "cell_type": "code",
   "execution_count": 51,
   "id": "90305064",
   "metadata": {},
   "outputs": [
    {
     "name": "stdout",
     "output_type": "stream",
     "text": [
      "947\n",
      "896\n",
      "926\n",
      "524\n",
      "734\n",
      "950\n",
      "642\n"
     ]
    }
   ],
   "source": [
    "for res in result:\n",
    "    res=int(res)\n",
    "    print(res)"
   ]
  },
  {
   "cell_type": "code",
   "execution_count": 52,
   "id": "346a8f74",
   "metadata": {},
   "outputs": [
    {
     "data": {
      "text/plain": [
       "['947', '896', '926', '524', '734', '950', '642']"
      ]
     },
     "execution_count": 52,
     "metadata": {},
     "output_type": "execute_result"
    }
   ],
   "source": [
    "result"
   ]
  },
  {
   "cell_type": "code",
   "execution_count": 53,
   "id": "02ef16a7",
   "metadata": {},
   "outputs": [
    {
     "name": "stdout",
     "output_type": "stream",
     "text": [
      "Maximum value is:  950\n"
     ]
    }
   ],
   "source": [
    "for res in result:\n",
    "    if res == max(result):\n",
    "        print('Maximum value is: ',max(result))"
   ]
  },
  {
   "cell_type": "markdown",
   "id": "4bcc231d",
   "metadata": {},
   "source": [
    "Question 23- Create a function in python to insert spaces between words starting with capital letters.\n",
    "\n",
    "Sample Text: “RegularExpressionIsAnImportantTopicInPython\"  \n",
    "Expected Output: Regular Expression Is An Important Topic In Python\n"
   ]
  },
  {
   "cell_type": "code",
   "execution_count": 54,
   "id": "0a950fc0",
   "metadata": {},
   "outputs": [],
   "source": [
    "def spaces(text):\n",
    "    sp = re.sub(r'(?=[A-Z])',' ',text)\n",
    "    if sp:\n",
    "        print(sp)\n",
    "    else:\n",
    "        print('No space added')"
   ]
  },
  {
   "cell_type": "code",
   "execution_count": 55,
   "id": "3d52448e",
   "metadata": {},
   "outputs": [
    {
     "name": "stdout",
     "output_type": "stream",
     "text": [
      " Regular Expression Is An Important Topic In Python\n"
     ]
    }
   ],
   "source": [
    "spaces('RegularExpressionIsAnImportantTopicInPython')"
   ]
  },
  {
   "cell_type": "markdown",
   "id": "86e811a9",
   "metadata": {},
   "source": [
    "Question 24- Python regex to find sequences of one upper case letter followed by lower case letters"
   ]
  },
  {
   "cell_type": "code",
   "execution_count": 56,
   "id": "8dbcbff0",
   "metadata": {},
   "outputs": [
    {
     "data": {
      "text/plain": [
       "['An', 'Team', 'Groups', 'People']"
      ]
     },
     "execution_count": 56,
     "metadata": {},
     "output_type": "execute_result"
    }
   ],
   "source": [
    "text='An ideal Team consist of hardworking Groups of People'\n",
    "pat='[A-Z][a-z]+'\n",
    "re.findall(pat,text)"
   ]
  },
  {
   "cell_type": "markdown",
   "id": "657ab5ad",
   "metadata": {},
   "source": [
    "Question 25- Write a Python program to remove continuous duplicate words from Sentence using Regular Expression.\n",
    "\n",
    "Sample Text: \"Hello hello world world\"  \n",
    "Expected Output: Hello hello world\n"
   ]
  },
  {
   "cell_type": "code",
   "execution_count": 57,
   "id": "cd838819",
   "metadata": {},
   "outputs": [
    {
     "data": {
      "text/plain": [
       "'Hello hello world'"
      ]
     },
     "execution_count": 57,
     "metadata": {},
     "output_type": "execute_result"
    }
   ],
   "source": [
    "text='Hello hello world world'\n",
    "pat= r'(\\w+)(\\W+\\1)+'\n",
    "re.sub(pat,r'\\1',text)"
   ]
  },
  {
   "cell_type": "markdown",
   "id": "1f0fc0ef",
   "metadata": {},
   "source": [
    "Question 26-  Write a python program using RegEx to accept string ending with alphanumeric character."
   ]
  },
  {
   "cell_type": "code",
   "execution_count": 58,
   "id": "8347c8f7",
   "metadata": {},
   "outputs": [],
   "source": [
    "def validity(string):\n",
    "    pat= r' [a-zA-Z0-9]+(?=\\.)'\n",
    "    res= re.findall(pat,string)\n",
    "    if res:\n",
    "        print('User_id accepted: ',res)\n",
    "    else:\n",
    "        print('Invalid User_id')"
   ]
  },
  {
   "cell_type": "code",
   "execution_count": 59,
   "id": "248833d0",
   "metadata": {},
   "outputs": [
    {
     "name": "stdout",
     "output_type": "stream",
     "text": [
      "Invalid User_id\n"
     ]
    }
   ],
   "source": [
    "validity('There is a festival in Kochi#1.')"
   ]
  },
  {
   "cell_type": "code",
   "execution_count": 60,
   "id": "2417dfd7",
   "metadata": {},
   "outputs": [
    {
     "name": "stdout",
     "output_type": "stream",
     "text": [
      "User_id accepted:  [' January2024']\n"
     ]
    }
   ],
   "source": [
    "validity('It started on January2024.')"
   ]
  },
  {
   "cell_type": "markdown",
   "id": "6ceb0d5f",
   "metadata": {},
   "source": [
    "Question 27-Write a python program using RegEx to extract the hashtags.\n",
    "\n",
    "Sample Text:  \"\"\"RT @kapil_kausik: #Doltiwal I mean #xyzabc is \"hurt\" by #Demonetization as the same has rendered USELESS <ed><U+00A0><U+00BD><ed><U+00B1><U+0089> \"acquired funds\" No wo\"\"\"  \n",
    "Expected Output: ['#Doltiwal', '#xyzabc', '#Demonetization']\n"
   ]
  },
  {
   "cell_type": "code",
   "execution_count": 61,
   "id": "c25db0a6",
   "metadata": {},
   "outputs": [],
   "source": [
    "pat='(#\\w+)'\n",
    "text='RT @kapil_kausik: #Doltiwal I mean #xyzabc is \"hurt\" by #Demonetization as the same has rendered USELESS <U+00A0><U+00BD><U+00B1><U+0089> \"acquired funds\" No wo'"
   ]
  },
  {
   "cell_type": "code",
   "execution_count": 62,
   "id": "13ff214c",
   "metadata": {},
   "outputs": [
    {
     "data": {
      "text/plain": [
       "['#Doltiwal', '#xyzabc', '#Demonetization']"
      ]
     },
     "execution_count": 62,
     "metadata": {},
     "output_type": "execute_result"
    }
   ],
   "source": [
    "re.findall(pat,text)"
   ]
  },
  {
   "cell_type": "markdown",
   "id": "414a9716",
   "metadata": {},
   "source": [
    "Question 28- Write a python program using RegEx to remove <U+..> like symbols\n",
    "Check the below sample text, there are strange symbols something of the sort <U+..> all over the place. You need to come up with a general Regex expression that will cover all such symbols.\n",
    "\n",
    "Sample Text: \"@Jags123456 Bharat band on 28??<ed><U+00A0><U+00BD><ed><U+00B8><U+0082>Those who  are protesting #demonetization  are all different party leaders\"  \n",
    "Expected Output: @Jags123456 Bharat band on 28??<ed><ed>Those who  are protesting #demonetization  are all different party leaders\n"
   ]
  },
  {
   "cell_type": "code",
   "execution_count": 63,
   "id": "3ce558ae",
   "metadata": {},
   "outputs": [],
   "source": [
    "pat='(<U\\+.*>)'\n",
    "text='@Jags123456 Bharat band on 28??<U+00A0><U+00BD><U+00B8><U+0082>Those who are protesting #demonetization are all different party leaders'"
   ]
  },
  {
   "cell_type": "code",
   "execution_count": 64,
   "id": "55febd97",
   "metadata": {},
   "outputs": [
    {
     "data": {
      "text/plain": [
       "'@Jags123456 Bharat band on 28??Those who are protesting #demonetization are all different party leaders'"
      ]
     },
     "execution_count": 64,
     "metadata": {},
     "output_type": "execute_result"
    }
   ],
   "source": [
    "re.sub(pat,'',text)"
   ]
  },
  {
   "cell_type": "markdown",
   "id": "a95242aa",
   "metadata": {},
   "source": [
    "Question 29- Write a python program to extract dates from the text stored in the text file.\n",
    "\n",
    "Sample Text: Ron was born on 12-09-1992 and he was admitted to school 15-12-1999.  \n",
    "Note- Store this sample text in the file and then extract dates.\n"
   ]
  },
  {
   "cell_type": "code",
   "execution_count": 65,
   "id": "d5252739",
   "metadata": {},
   "outputs": [
    {
     "name": "stdout",
     "output_type": "stream",
     "text": [
      "Text is stored in file as:  Ron.txt\n"
     ]
    }
   ],
   "source": [
    "text='Ron was born on 12-09-1992 and he was admitted to school 15-12-1999.'\n",
    "path='Ron.txt'\n",
    "if text:\n",
    "    with open(path,'w') as file:\n",
    "        file.write(text)\n",
    "    print('Text is stored in file as: ',path)\n",
    "else:\n",
    "    print('Text not stored in file')"
   ]
  },
  {
   "cell_type": "code",
   "execution_count": 66,
   "id": "3625cd9b",
   "metadata": {},
   "outputs": [
    {
     "data": {
      "text/plain": [
       "'Ron was born on 12-09-1992 and he was admitted to school 15-12-1999.'"
      ]
     },
     "execution_count": 66,
     "metadata": {},
     "output_type": "execute_result"
    }
   ],
   "source": [
    "with open(path,'r') as file:\n",
    "    read_ron=file.read() \n",
    "read_ron"
   ]
  },
  {
   "cell_type": "code",
   "execution_count": 67,
   "id": "14385449",
   "metadata": {},
   "outputs": [
    {
     "data": {
      "text/plain": [
       "['12-09-1992', '15-12-1999']"
      ]
     },
     "execution_count": 67,
     "metadata": {},
     "output_type": "execute_result"
    }
   ],
   "source": [
    "pat= r'\\d{2}-\\d{2}-\\d{4}'\n",
    "res= re.findall(pat,read_ron)\n",
    "res"
   ]
  },
  {
   "cell_type": "markdown",
   "id": "2092e3ee",
   "metadata": {},
   "source": [
    "Question 30- Create a function in python to remove all words from a string of length between 2 and 4.\n",
    "The use of the re.compile() method is mandatory.\n",
    "\n",
    "Sample Text: \"The following example creates an ArrayList with a capacity of 50 elements. 4 elements are then added to the ArrayList and the ArrayList is trimmed accordingly.\"\n",
    "\n",
    "Expected Output:  following example creates ArrayList a capacity elements. 4 elements added ArrayList ArrayList trimmed accordingly.\n"
   ]
  },
  {
   "cell_type": "code",
   "execution_count": 68,
   "id": "2c7afa43",
   "metadata": {},
   "outputs": [
    {
     "data": {
      "text/plain": [
       "' following example creates  ArrayList  a capacity   elements. 4 elements   added   ArrayList   ArrayList  trimmed accordingly'"
      ]
     },
     "execution_count": 68,
     "metadata": {},
     "output_type": "execute_result"
    }
   ],
   "source": [
    "text='The following example creates an ArrayList with a capacity of 50 elements. 4 elements are then added to the ArrayList and the ArrayList is trimmed accordingly'\n",
    "pat=r'(\\b\\w{2,4}\\b)+'\n",
    "re.sub(pat,'',text)"
   ]
  },
  {
   "cell_type": "code",
   "execution_count": null,
   "id": "04944dc1",
   "metadata": {},
   "outputs": [],
   "source": []
  }
 ],
 "metadata": {
  "kernelspec": {
   "display_name": "Python 3 (ipykernel)",
   "language": "python",
   "name": "python3"
  },
  "language_info": {
   "codemirror_mode": {
    "name": "ipython",
    "version": 3
   },
   "file_extension": ".py",
   "mimetype": "text/x-python",
   "name": "python",
   "nbconvert_exporter": "python",
   "pygments_lexer": "ipython3",
   "version": "3.11.5"
  }
 },
 "nbformat": 4,
 "nbformat_minor": 5
}
